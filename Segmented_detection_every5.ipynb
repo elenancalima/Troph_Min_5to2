{
  "nbformat": 4,
  "nbformat_minor": 0,
  "metadata": {
    "colab": {
      "provenance": [],
      "gpuType": "T4",
      "authorship_tag": "ABX9TyP53vRcRTxR4a1JjwEsK8jI",
      "include_colab_link": true
    },
    "kernelspec": {
      "name": "python3",
      "display_name": "Python 3"
    },
    "language_info": {
      "name": "python"
    },
    "accelerator": "GPU"
  },
  "cells": [
    {
      "cell_type": "markdown",
      "metadata": {
        "id": "view-in-github",
        "colab_type": "text"
      },
      "source": [
        "<a href=\"https://colab.research.google.com/github/elenancalima/Troph_Min_5to2/blob/main/Segmented_detection_every5.ipynb\" target=\"_parent\"><img src=\"https://colab.research.google.com/assets/colab-badge.svg\" alt=\"Open In Colab\"/></a>"
      ]
    },
    {
      "cell_type": "code",
      "source": [
        "%pip -q install ultralytics==8.3.66\n",
        "\n",
        "from google.colab import drive\n",
        "drive.mount('/content/drive')\n",
        "print(\"[ok] Drive mounted\")\n",
        "\n",
        "import sys, os\n",
        "MOD_ROOT = \"/content/drive/MyDrive/y11_seg_batch\"\n",
        "if MOD_ROOT not in sys.path: sys.path.append(MOD_ROOT)\n",
        "\n",
        "from cfg import get_cfg\n",
        "from run_batch import run_batch\n",
        "\n",
        "# ---- choose: \"tags\" or \"abdomens\" ----\n",
        "OPTION = \"abdomens\"              # or \"abdomens\"\n",
        "FORCE_OVERWRITE = False      # True to overwrite CSVs\n",
        "\n",
        "cfg = get_cfg(OPTION, force_overwrite=FORCE_OVERWRITE)\n",
        "print(\"[cfg]\", cfg)\n",
        "run_batch(cfg)\n"
      ],
      "metadata": {
        "colab": {
          "base_uri": "https://localhost:8080/"
        },
        "id": "UdKGnyXz5Vb0",
        "outputId": "fe331797-f7fd-4c9d-9d55-d3c8f4e6d6ad"
      },
      "execution_count": null,
      "outputs": [
        {
          "output_type": "stream",
          "name": "stdout",
          "text": [
            "\u001b[?25l   \u001b[90m━━━━━━━━━━━━━━━━━━━━━━━━━━━━━━━━━━━━━━━━\u001b[0m \u001b[32m0.0/911.4 kB\u001b[0m \u001b[31m?\u001b[0m eta \u001b[36m-:--:--\u001b[0m\r\u001b[2K   \u001b[91m━━━━━━━━━━━━━━━━━━━━━━━━━━━━━━━━━━━━━━━\u001b[0m\u001b[91m╸\u001b[0m \u001b[32m911.4/911.4 kB\u001b[0m \u001b[31m30.9 MB/s\u001b[0m eta \u001b[36m0:00:01\u001b[0m\r\u001b[2K   \u001b[90m━━━━━━━━━━━━━━━━━━━━━━━━━━━━━━━━━━━━━━━━\u001b[0m \u001b[32m911.4/911.4 kB\u001b[0m \u001b[31m21.8 MB/s\u001b[0m eta \u001b[36m0:00:00\u001b[0m\n",
            "\u001b[?25hMounted at /content/drive\n",
            "[ok] Drive mounted\n",
            "Creating new Ultralytics Settings v0.0.6 file ✅ \n",
            "View Ultralytics Settings with 'yolo settings' or at '/root/.config/Ultralytics/settings.json'\n",
            "Update Settings with 'yolo settings key=value', i.e. 'yolo settings runs_dir=path/to/dir'. For help see https://docs.ultralytics.com/quickstart/#ultralytics-settings.\n",
            "[cfg] {'RUN_NAME': 'y11n_seg_exp1', 'IMG_SIZE': 850, 'CONF_THRESH': 0.2, 'IN_DIR': '/content/drive/MyDrive/masked_850_every5', 'OUT_DIR': '/content/drive/MyDrive/abdomens_every5', 'SAVE_ROOT': '/content/drive/MyDrive/yolo_runs', 'OUT_PREFIX': 'feeding_e5_abdomens', 'FORCE_OVERWRITE': False}\n",
            "[skip] /content/drive/MyDrive/abdomens_every5/feeding_e5_abdomens_masked_850_every5_FoodLimit2.5D_gR0033_feeding.mp4.csv\n",
            "[skip] /content/drive/MyDrive/abdomens_every5/feeding_e5_abdomens_masked_850_every5_FoodLimit2.5D_gR0035_feeding.mp4.csv\n",
            "[skip] /content/drive/MyDrive/abdomens_every5/feeding_e5_abdomens_masked_850_every5_FoodLimit2.5D_gR0044_feeding.mp4.csv\n",
            "[skip] /content/drive/MyDrive/abdomens_every5/feeding_e5_abdomens_masked_850_every5_FoodLimit2.5D_gR0055_feeding.mp4.csv\n",
            "[skip] /content/drive/MyDrive/abdomens_every5/feeding_e5_abdomens_masked_850_every5_FoodLimit2.5D_gR0056_feeding.mp4.csv\n",
            "[skip] /content/drive/MyDrive/abdomens_every5/feeding_e5_abdomens_masked_850_every5_FoodLimit2.5D_gR0063_feeding.mp4.csv\n",
            "[skip] /content/drive/MyDrive/abdomens_every5/feeding_e5_abdomens_masked_850_every5_FoodLimit2.5D_gR0068_feeding.mp4.csv\n",
            "[skip] /content/drive/MyDrive/abdomens_every5/feeding_e5_abdomens_masked_850_every5_ManyAnts2.5D_gR0030_feeding.mp4.csv\n",
            "[skip] /content/drive/MyDrive/abdomens_every5/feeding_e5_abdomens_masked_850_every5_ManyAnts2.5D_gR0042_feeding.mp4.csv\n",
            "[skip] /content/drive/MyDrive/abdomens_every5/feeding_e5_abdomens_masked_850_every5_ManyAnts2.5D_gR0049_feeding.mp4.csv\n",
            "[skip] /content/drive/MyDrive/abdomens_every5/feeding_e5_abdomens_masked_850_every5_ManyAnts2.5D_gR0064_feeding.mp4.csv\n",
            "[skip] /content/drive/MyDrive/abdomens_every5/feeding_e5_abdomens_masked_850_every5_ManyAnts2.5D_gR0069_feeding.mp4.csv\n",
            "[skip] /content/drive/MyDrive/abdomens_every5/feeding_e5_abdomens_masked_850_every5_ManyAnts2.5D_gR0072_feeding.mp4.csv\n",
            "\n",
            "[run] masked_850_every5_ManyAnts2.5D_gR0073_feeding.mp4\n",
            "WARNING ⚠️ imgsz=[850] must be multiple of max stride 32, updating to [864]\n",
            "[..] frame=0 det_total=59\n",
            "[..] frame=100 det_total=6474\n",
            "[..] frame=200 det_total=12864\n",
            "[..] frame=300 det_total=18736\n",
            "[..] frame=400 det_total=25308\n",
            "[..] frame=500 det_total=31553\n",
            "[..] frame=600 det_total=37659\n",
            "[..] frame=700 det_total=43648\n",
            "[..] frame=800 det_total=49940\n",
            "[..] frame=900 det_total=56091\n",
            "[ok] /content/drive/MyDrive/abdomens_every5/feeding_e5_abdomens_masked_850_every5_ManyAnts2.5D_gR0073_feeding.mp4.csv rows=61690 frames=990 dets=61690\n",
            "[done] masked_850_every5_ManyAnts2.5D_gR0073_feeding.mp4 elapsed=232.4s\n",
            "[skip] /content/drive/MyDrive/abdomens_every5/feeding_e5_abdomens_masked_850_every5_Small2.5D_gR0032_feeding.mp4.csv\n",
            "[skip] /content/drive/MyDrive/abdomens_every5/feeding_e5_abdomens_masked_850_every5_Small2.5D_gR0034_feeding.mp4.csv\n",
            "[skip] /content/drive/MyDrive/abdomens_every5/feeding_e5_abdomens_masked_850_every5_Small2.5D_gR0043_feeding.mp4.csv\n",
            "[skip] /content/drive/MyDrive/abdomens_every5/feeding_e5_abdomens_masked_850_every5_Small2.5D_gR0050_feeding.mp4.csv\n",
            "[skip] /content/drive/MyDrive/abdomens_every5/feeding_e5_abdomens_masked_850_every5_Small2.5D_gR0053_feeding.mp4.csv\n",
            "[skip] /content/drive/MyDrive/abdomens_every5/feeding_e5_abdomens_masked_850_every5_Small2.5D_gR0061_feeding.mp4.csv\n",
            "[skip] /content/drive/MyDrive/abdomens_every5/feeding_e5_abdomens_masked_850_every5_Small2.5D_gR0065_feeding.mp4.csv\n",
            "[skip] /content/drive/MyDrive/abdomens_every5/feeding_e5_abdomens_masked_850_every5_Small2.5D_gR0070_feeding.mp4.csv\n",
            "[skip] /content/drive/MyDrive/abdomens_every5/feeding_e5_abdomens_masked_850_every5_Starv0.5D_gR0028_feeding.mp4.csv\n",
            "[skip] /content/drive/MyDrive/abdomens_every5/feeding_e5_abdomens_masked_850_every5_Starv0.5D_gR0039_feeding.mp4.csv\n",
            "[skip] /content/drive/MyDrive/abdomens_every5/feeding_e5_abdomens_masked_850_every5_Starv0.5D_gR0052_feeding.mp4.csv\n",
            "[skip] /content/drive/MyDrive/abdomens_every5/feeding_e5_abdomens_masked_850_every5_Starv0.5D_gR0058_feeding.mp4.csv\n",
            "[skip] /content/drive/MyDrive/abdomens_every5/feeding_e5_abdomens_masked_850_every5_Starv0.5D_gR0059_feeding.mp4.csv\n",
            "[skip] /content/drive/MyDrive/abdomens_every5/feeding_e5_abdomens_masked_850_every5_Starv0.5D_gR0060_feeding.mp4.csv\n",
            "[skip] /content/drive/MyDrive/abdomens_every5/feeding_e5_abdomens_masked_850_every5_Starv1D_gR0019_feeding.mp4.csv\n",
            "[skip] /content/drive/MyDrive/abdomens_every5/feeding_e5_abdomens_masked_850_every5_Starv2.5D_gR0031_feeding.mp4.csv\n",
            "[skip] /content/drive/MyDrive/abdomens_every5/feeding_e5_abdomens_masked_850_every5_Starv2.5D_gR0037_feeding.mp4.csv\n",
            "[skip] /content/drive/MyDrive/abdomens_every5/feeding_e5_abdomens_masked_850_every5_Starv2.5D_gR0045_feeding.mp4.csv\n",
            "[skip] /content/drive/MyDrive/abdomens_every5/feeding_e5_abdomens_masked_850_every5_Starv2.5D_gR0048_feeding.mp4.csv\n",
            "[skip] /content/drive/MyDrive/abdomens_every5/feeding_e5_abdomens_masked_850_every5_Starv2.5D_gR0054_feeding.mp4.csv\n",
            "[skip] /content/drive/MyDrive/abdomens_every5/feeding_e5_abdomens_masked_850_every5_Starv2.5D_gR0062_feeding.mp4.csv\n",
            "[skip] /content/drive/MyDrive/abdomens_every5/feeding_e5_abdomens_masked_850_every5_Starv2.5D_gR0071_feeding.mp4.csv\n",
            "[skip] /content/drive/MyDrive/abdomens_every5/feeding_e5_abdomens_masked_850_every5_Starv3D_gR0025_feeding.mp4.csv\n"
          ]
        }
      ]
    }
  ]
}